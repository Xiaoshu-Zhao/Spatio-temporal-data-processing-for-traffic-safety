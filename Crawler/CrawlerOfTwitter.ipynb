{
 "cells": [
  {
   "cell_type": "code",
   "execution_count": 17,
   "id": "69ff1e87",
   "metadata": {
    "slideshow": {
     "slide_type": "notes"
    }
   },
   "outputs": [],
   "source": [
    "# load the package\n",
    "# the detail of code is in Crawler.py\n",
    "\n",
    "from utils.Crawler import search_by_text\n",
    "from utils.Crawler import search_by_location\n",
    "from utils.Crawler import search_mention"
   ]
  },
  {
   "cell_type": "code",
   "execution_count": 12,
   "id": "fabfe8ea",
   "metadata": {},
   "outputs": [
    {
     "name": "stdout",
     "output_type": "stream",
     "text": [
      "Help on function search_by_text in module utils.Crawler:\n",
      "\n",
      "search_by_text(text='#reopen', start='2020-05-01', end='2020-06-01', numberOfTweets=100)\n",
      "    the format should be: text, start, end, radius, numberOfTweets\n",
      "    the default location is new york within 100km.\n",
      "    text: the search key\n",
      "    start, end: time constaint\n",
      "    numberOfTweets: the number of tweets that you want to scrape.\n",
      "\n"
     ]
    }
   ],
   "source": [
    "help(search_by_text)"
   ]
  },
  {
   "cell_type": "markdown",
   "id": "9fc37e68",
   "metadata": {
    "slideshow": {
     "slide_type": "slide"
    }
   },
   "source": [
    "## Scraping tweets from a text search query"
   ]
  },
  {
   "cell_type": "code",
   "execution_count": 13,
   "id": "a732c841",
   "metadata": {
    "slideshow": {
     "slide_type": "notes"
    }
   },
   "outputs": [],
   "source": [
    "# The search key of transportation: #PublicTransit, #transit, #subway, #car, #bus \n",
    "# the search key of stay-at-home: #StayAtHome\n",
    "# the search key of reopen: #reopen, #WFH\n",
    "# m = ['2021-01-01','2021-02-01','2021-03-01','2020-04-01','2020-05-01','2020-06-01','2020-07-01','2020-08-01','2020-09-01','2020-10-01','2020-11-01','2020-12-01']\n",
    "\n",
    "'''\n",
    "return to work\n",
    "return to office\n",
    "back to work\n",
    "back to office\n",
    "'''\n",
    "\n",
    "# define a method to show the number of tweets each month from 2020-01 to 2020-12\n",
    "\n",
    "def getNumberOfTweets(input):\n",
    "    import numpy as np\n",
    "    import pandas as pd\n",
    "    \n",
    "    m = ['2021-01-01','2021-02-01','2021-03-01','2021-04-01','20201-05-01']\n",
    "    numberOfTweets = []\n",
    "    for i in range(4):\n",
    "        a = search_by_text(\"input\", m[i], m[i+1], 300)\n",
    "        numberOfTweets.append(a.shape[0])\n",
    "        \n",
    "    month = ['01 - 02',\n",
    "         '02 - 03',\n",
    "         '03 - 04',\n",
    "         '04 - 05']\n",
    "    df = pd.DataFrame(numberOfTweets)\n",
    "    df.columns = ['number of tweets']\n",
    "    df.index = month\n",
    "    return df\n",
    "    "
   ]
  },
  {
   "cell_type": "code",
   "execution_count": 9,
   "id": "2331756c",
   "metadata": {},
   "outputs": [
    {
     "data": {
      "text/html": [
       "<div>\n",
       "<style scoped>\n",
       "    .dataframe tbody tr th:only-of-type {\n",
       "        vertical-align: middle;\n",
       "    }\n",
       "\n",
       "    .dataframe tbody tr th {\n",
       "        vertical-align: top;\n",
       "    }\n",
       "\n",
       "    .dataframe thead th {\n",
       "        text-align: right;\n",
       "    }\n",
       "</style>\n",
       "<table border=\"1\" class=\"dataframe\">\n",
       "  <thead>\n",
       "    <tr style=\"text-align: right;\">\n",
       "      <th></th>\n",
       "      <th>number of tweets</th>\n",
       "    </tr>\n",
       "  </thead>\n",
       "  <tbody>\n",
       "    <tr>\n",
       "      <th>01 - 02</th>\n",
       "      <td>58</td>\n",
       "    </tr>\n",
       "    <tr>\n",
       "      <th>02 - 03</th>\n",
       "      <td>49</td>\n",
       "    </tr>\n",
       "    <tr>\n",
       "      <th>03 - 04</th>\n",
       "      <td>68</td>\n",
       "    </tr>\n",
       "    <tr>\n",
       "      <th>04 - 05</th>\n",
       "      <td>0</td>\n",
       "    </tr>\n",
       "  </tbody>\n",
       "</table>\n",
       "</div>"
      ],
      "text/plain": [
       "         number of tweets\n",
       "01 - 02                58\n",
       "02 - 03                49\n",
       "03 - 04                68\n",
       "04 - 05                 0"
      ]
     },
     "execution_count": 9,
     "metadata": {},
     "output_type": "execute_result"
    }
   ],
   "source": [
    "getNumberOfTweets('#WFH')"
   ]
  },
  {
   "cell_type": "code",
   "execution_count": 10,
   "id": "442fc278",
   "metadata": {},
   "outputs": [],
   "source": [
    "df_1 = getNumberOfTweets('#WFH')\n",
    "df_2 = getNumberOfTweets('#StayAtHome')\n",
    "df_3 = getNumberOfTweets('#reopen')\n",
    "df_4 = getNumberOfTweets('return to work')"
   ]
  },
  {
   "cell_type": "code",
   "execution_count": 14,
   "id": "9b8992e5",
   "metadata": {},
   "outputs": [],
   "source": [
    "df_5 = getNumberOfTweets('back to work')\n",
    "df_6 = getNumberOfTweets('return to office')\n",
    "df_7 = getNumberOfTweets('back to office')\n"
   ]
  },
  {
   "cell_type": "code",
   "execution_count": 68,
   "id": "401ad3ac",
   "metadata": {},
   "outputs": [],
   "source": [
    "df_1.to_csv(\"1_data.csv\")\n",
    "df_2.to_csv(\"2_data.csv\")\n",
    "df_3.to_csv(\"3_data.csv\")\n",
    "df_4.to_csv(\"4_data.csv\")\n",
    "df_5.to_csv(\"5_data.csv\")\n",
    "df_6.to_csv(\"6_data.csv\")\n",
    "df_7.to_csv(\"7_data.csv\")"
   ]
  },
  {
   "cell_type": "code",
   "execution_count": null,
   "id": "a2a1ef45",
   "metadata": {},
   "outputs": [],
   "source": []
  },
  {
   "cell_type": "code",
   "execution_count": 18,
   "id": "e3998733",
   "metadata": {},
   "outputs": [],
   "source": [
    "import pandas as pd\n",
    "df_1 = pd.read_csv('1_data.csv', names = ['month', 'number of tweets'], header= 0)\n",
    "df_2 = pd.read_csv('2_data.csv', names = ['month', 'number of tweets'], header= 0)\n",
    "df_3 = pd.read_csv('3_data.csv', names = ['month', 'number of tweets'], header= 0)\n",
    "df_4 = pd.read_csv('4_data.csv', names = ['month', 'number of tweets'], header= 0)\n",
    "df_5 = pd.read_csv('5_data.csv', names = ['month', 'number of tweets'], header= 0)\n",
    "df_6 = pd.read_csv('6_data.csv', names = ['month', 'number of tweets'], header= 0)\n",
    "df_7 = pd.read_csv('7_data.csv', names = ['month', 'number of tweets'], header= 0)"
   ]
  },
  {
   "cell_type": "code",
   "execution_count": 19,
   "id": "c6aa6839",
   "metadata": {},
   "outputs": [
    {
     "data": {
      "image/png": "[encoded data removed]",
      "text/plain": [
       "<Figure size 864x576 with 1 Axes>"
      ]
     },
     "metadata": {
      "needs_background": "light"
     },
     "output_type": "display_data"
    }
   ],
   "source": [
    "import matplotlib.pylab as plt \n",
    "import seaborn as sns \n",
    "\n",
    "fig,ax = plt.subplots(1,1,figsize=(12,8))\n",
    "\n",
    "ax.plot(df_1['number of tweets'], 'o-', color='b',label='#WFH');\n",
    "ax.plot(df_2['number of tweets'], 'o-', color='g', label='#StayAtHome');\n",
    "ax.plot(df_3['number of tweets'], 'o-', color='r',label='#reopen');\n",
    "ax.plot(df_4['number of tweets'], 'o-', color='c',label='return to work');\n",
    "ax.plot(df_5['number of tweets'], 'o-', color='m',label='back to work');\n",
    "ax.plot(df_6['number of tweets'], 'o-', color='y',label='return to office');\n",
    "ax.plot(df_7['number of tweets'], 'o-', color='k',label='back to office');\n",
    "\n",
    "ax.set_xlabel('month')\n",
    "ax.set_ylabel('number of tweets')\n",
    "\n",
    "ax.legend();\n"
   ]
  },
  {
   "cell_type": "code",
   "execution_count": 99,
   "id": "ef46a5b5",
   "metadata": {},
   "outputs": [],
   "source": [
    "a = search_by_text('\"back to work\"', '2020-04-01','2020-05-01', 300)"
   ]
  },
  {
   "cell_type": "code",
   "execution_count": 102,
   "id": "dae5afad",
   "metadata": {},
   "outputs": [
    {
     "data": {
      "text/plain": [
       "'i love being home, man. this 3 day weekend was exactly what i needed. then i got back to work tomorrow &amp; wednesday &amp; i’m off thursday again. i can’t even fuckin wait!!!'"
      ]
     },
     "execution_count": 102,
     "metadata": {},
     "output_type": "execute_result"
    }
   ],
   "source": [
    "a.content[80]"
   ]
  },
  {
   "cell_type": "markdown",
   "id": "4e1fd71a",
   "metadata": {
    "slideshow": {
     "slide_type": "slide"
    }
   },
   "source": [
    "## Scraping tweets in a specific location "
   ]
  },
  {
   "cell_type": "code",
   "execution_count": 5,
   "id": "e1cd397f",
   "metadata": {
    "slideshow": {
     "slide_type": "notes"
    }
   },
   "outputs": [
    {
     "name": "stdout",
     "output_type": "stream",
     "text": [
      "Help on function search_by_location in module utils.Crawler:\n",
      "\n",
      "search_by_location(text='#reopen', coordinates='40.730610,-73.935242, 500000mi', start='2020-03-01', end='2021-03-31', language='en', numberOfTweets=100)\n",
      "    this method could location detail of tweets that include text you want.\n",
      "\n"
     ]
    },
    {
     "data": {
      "text/html": [
       "<div>\n",
       "<style scoped>\n",
       "    .dataframe tbody tr th:only-of-type {\n",
       "        vertical-align: middle;\n",
       "    }\n",
       "\n",
       "    .dataframe tbody tr th {\n",
       "        vertical-align: top;\n",
       "    }\n",
       "\n",
       "    .dataframe thead th {\n",
       "        text-align: right;\n",
       "    }\n",
       "</style>\n",
       "<table border=\"1\" class=\"dataframe\">\n",
       "  <thead>\n",
       "    <tr style=\"text-align: right;\">\n",
       "      <th></th>\n",
       "      <th>user</th>\n",
       "      <th>date</th>\n",
       "      <th>content</th>\n",
       "    </tr>\n",
       "  </thead>\n",
       "  <tbody>\n",
       "    <tr>\n",
       "      <th>0</th>\n",
       "      <td>EddyOhno</td>\n",
       "      <td>2021-03-26 14:51:40+00:00</td>\n",
       "      <td>Broadway gets a shot in the arm toward safely ...</td>\n",
       "    </tr>\n",
       "    <tr>\n",
       "      <th>1</th>\n",
       "      <td>realalexnicoll</td>\n",
       "      <td>2021-03-17 23:17:10+00:00</td>\n",
       "      <td>Article in Ludlow (MA) ’s newspaper about the ...</td>\n",
       "    </tr>\n",
       "    <tr>\n",
       "      <th>2</th>\n",
       "      <td>denisequarles</td>\n",
       "      <td>2021-03-09 19:18:59+00:00</td>\n",
       "      <td>@kwanzahall enjoyed your convo w/Commissioner ...</td>\n",
       "    </tr>\n",
       "    <tr>\n",
       "      <th>3</th>\n",
       "      <td>macswimclub</td>\n",
       "      <td>2021-03-07 16:26:05+00:00</td>\n",
       "      <td>MAC’s swimmers initiated a powerful online pet...</td>\n",
       "    </tr>\n",
       "    <tr>\n",
       "      <th>4</th>\n",
       "      <td>Turning_MA_Red</td>\n",
       "      <td>2021-03-04 21:35:04+00:00</td>\n",
       "      <td>This nations future is being put at risk by th...</td>\n",
       "    </tr>\n",
       "  </tbody>\n",
       "</table>\n",
       "</div>"
      ],
      "text/plain": [
       "             user                      date  \\\n",
       "0        EddyOhno 2021-03-26 14:51:40+00:00   \n",
       "1  realalexnicoll 2021-03-17 23:17:10+00:00   \n",
       "2   denisequarles 2021-03-09 19:18:59+00:00   \n",
       "3     macswimclub 2021-03-07 16:26:05+00:00   \n",
       "4  Turning_MA_Red 2021-03-04 21:35:04+00:00   \n",
       "\n",
       "                                             content  \n",
       "0  Broadway gets a shot in the arm toward safely ...  \n",
       "1  Article in Ludlow (MA) ’s newspaper about the ...  \n",
       "2  @kwanzahall enjoyed your convo w/Commissioner ...  \n",
       "3  MAC’s swimmers initiated a powerful online pet...  \n",
       "4  This nations future is being put at risk by th...  "
      ]
     },
     "execution_count": 5,
     "metadata": {},
     "output_type": "execute_result"
    }
   ],
   "source": [
    "# Get the instruction of this method\n",
    "# help(search_by_location)\n",
    "\n",
    "df = search_by_location()\n",
    "df.head()"
   ]
  },
  {
   "cell_type": "markdown",
   "id": "c08d4707",
   "metadata": {
    "slideshow": {
     "slide_type": "skip"
    }
   },
   "source": [
    "这里出现了一个问题！通过该种的方式搜索的tweet会有两种情况，一是geo-tagged的tweets，另一种是用户来自该坐标的tweets。在第一种情况下，用户可能没有在个人profile里表明自己的位置，但是在tweet下分享了自己的位置，所以被检索了出来；在第二种情况下，用户在个人profile里表明自己来自该地区，但发tweet的时候没有tag自己的位置，这时twitter的检索工具会把它作为来自该地理位置的tweet。"
   ]
  },
  {
   "cell_type": "markdown",
   "id": "a10b146a",
   "metadata": {
    "slideshow": {
     "slide_type": "slide"
    }
   },
   "source": [
    "## Mentioned"
   ]
  },
  {
   "cell_type": "code",
   "execution_count": 9,
   "id": "854fa83a",
   "metadata": {},
   "outputs": [
    {
     "data": {
      "text/html": [
       "<div>\n",
       "<style scoped>\n",
       "    .dataframe tbody tr th:only-of-type {\n",
       "        vertical-align: middle;\n",
       "    }\n",
       "\n",
       "    .dataframe tbody tr th {\n",
       "        vertical-align: top;\n",
       "    }\n",
       "\n",
       "    .dataframe thead th {\n",
       "        text-align: right;\n",
       "    }\n",
       "</style>\n",
       "<table border=\"1\" class=\"dataframe\">\n",
       "  <thead>\n",
       "    <tr style=\"text-align: right;\">\n",
       "      <th></th>\n",
       "      <th>date</th>\n",
       "      <th>content</th>\n",
       "      <th>user</th>\n",
       "      <th>mentionedUsers</th>\n",
       "    </tr>\n",
       "  </thead>\n",
       "  <tbody>\n",
       "    <tr>\n",
       "      <th>0</th>\n",
       "      <td>2021-05-03 16:04:45+00:00</td>\n",
       "      <td>#violence in #NYC #BROOKLYN and #education #bu...</td>\n",
       "      <td>crafted4u</td>\n",
       "      <td>[{'username': 'NYCMayorsOffice', 'displayname'...</td>\n",
       "    </tr>\n",
       "    <tr>\n",
       "      <th>1</th>\n",
       "      <td>2021-05-02 14:45:07+00:00</td>\n",
       "      <td>You're next in line! Grab the 3Dmate Design Ma...</td>\n",
       "      <td>the3dmate</td>\n",
       "      <td>[{'username': 'style_rk', 'displayname': 'Ravi...</td>\n",
       "    </tr>\n",
       "    <tr>\n",
       "      <th>2</th>\n",
       "      <td>2021-04-20 00:01:57+00:00</td>\n",
       "      <td>#yikes #22minutes til the next @mta #bus #newy...</td>\n",
       "      <td>IamNYSports</td>\n",
       "      <td>[{'username': 'MTA', 'displayname': 'MTA. Wear...</td>\n",
       "    </tr>\n",
       "    <tr>\n",
       "      <th>3</th>\n",
       "      <td>2021-03-15 13:06:44+00:00</td>\n",
       "      <td>#nyccommute #nyc #PABT #morningrush at worlds ...</td>\n",
       "      <td>barryjgrossman</td>\n",
       "      <td>[{'username': 'CarenLissner', 'displayname': '...</td>\n",
       "    </tr>\n",
       "    <tr>\n",
       "      <th>4</th>\n",
       "      <td>2021-02-28 19:23:52+00:00</td>\n",
       "      <td>Imagine getting drunk while drinking @HEBobiwi...</td>\n",
       "      <td>badruzwasaggo</td>\n",
       "      <td>[{'username': 'HEBobiwine', 'displayname': 'BO...</td>\n",
       "    </tr>\n",
       "    <tr>\n",
       "      <th>...</th>\n",
       "      <td>...</td>\n",
       "      <td>...</td>\n",
       "      <td>...</td>\n",
       "      <td>...</td>\n",
       "    </tr>\n",
       "    <tr>\n",
       "      <th>95</th>\n",
       "      <td>2015-04-20 21:37:19+00:00</td>\n",
       "      <td>Why the fuck do @MTA #buses crank the heat on ...</td>\n",
       "      <td>BriStob82</td>\n",
       "      <td>[{'username': 'MTA', 'displayname': 'MTA. Wear...</td>\n",
       "    </tr>\n",
       "    <tr>\n",
       "      <th>96</th>\n",
       "      <td>2014-10-09 22:46:31+00:00</td>\n",
       "      <td>C'mon @MTA #Bus - a line halfway down the widt...</td>\n",
       "      <td>SallyBenner</td>\n",
       "      <td>[{'username': 'MTA', 'displayname': 'MTA. Wear...</td>\n",
       "    </tr>\n",
       "    <tr>\n",
       "      <th>97</th>\n",
       "      <td>2014-09-02 10:55:02+00:00</td>\n",
       "      <td>Subway @subwayfreshbuzz. http://t.co/jVSKrDAL8...</td>\n",
       "      <td>dine_here</td>\n",
       "      <td>[{'username': 'SubwayFreshBuzz', 'displayname'...</td>\n",
       "    </tr>\n",
       "    <tr>\n",
       "      <th>98</th>\n",
       "      <td>2014-08-20 13:47:14+00:00</td>\n",
       "      <td>Thank you so much @WNYC for #discover. saving ...</td>\n",
       "      <td>jetandset_</td>\n",
       "      <td>[{'username': 'WNYC', 'displayname': 'WNYC 🎙',...</td>\n",
       "    </tr>\n",
       "    <tr>\n",
       "      <th>99</th>\n",
       "      <td>2014-08-06 13:14:58+00:00</td>\n",
       "      <td>After a 45 minute wait, thank you for gracing ...</td>\n",
       "      <td>JsFuentes54</td>\n",
       "      <td>[{'username': 'MTA', 'displayname': 'MTA. Wear...</td>\n",
       "    </tr>\n",
       "  </tbody>\n",
       "</table>\n",
       "<p>100 rows × 4 columns</p>\n",
       "</div>"
      ],
      "text/plain": [
       "                        date  \\\n",
       "0  2021-05-03 16:04:45+00:00   \n",
       "1  2021-05-02 14:45:07+00:00   \n",
       "2  2021-04-20 00:01:57+00:00   \n",
       "3  2021-03-15 13:06:44+00:00   \n",
       "4  2021-02-28 19:23:52+00:00   \n",
       "..                       ...   \n",
       "95 2015-04-20 21:37:19+00:00   \n",
       "96 2014-10-09 22:46:31+00:00   \n",
       "97 2014-09-02 10:55:02+00:00   \n",
       "98 2014-08-20 13:47:14+00:00   \n",
       "99 2014-08-06 13:14:58+00:00   \n",
       "\n",
       "                                              content            user  \\\n",
       "0   #violence in #NYC #BROOKLYN and #education #bu...       crafted4u   \n",
       "1   You're next in line! Grab the 3Dmate Design Ma...       the3dmate   \n",
       "2   #yikes #22minutes til the next @mta #bus #newy...     IamNYSports   \n",
       "3   #nyccommute #nyc #PABT #morningrush at worlds ...  barryjgrossman   \n",
       "4   Imagine getting drunk while drinking @HEBobiwi...   badruzwasaggo   \n",
       "..                                                ...             ...   \n",
       "95  Why the fuck do @MTA #buses crank the heat on ...       BriStob82   \n",
       "96  C'mon @MTA #Bus - a line halfway down the widt...     SallyBenner   \n",
       "97  Subway @subwayfreshbuzz. http://t.co/jVSKrDAL8...       dine_here   \n",
       "98  Thank you so much @WNYC for #discover. saving ...      jetandset_   \n",
       "99  After a 45 minute wait, thank you for gracing ...     JsFuentes54   \n",
       "\n",
       "                                       mentionedUsers  \n",
       "0   [{'username': 'NYCMayorsOffice', 'displayname'...  \n",
       "1   [{'username': 'style_rk', 'displayname': 'Ravi...  \n",
       "2   [{'username': 'MTA', 'displayname': 'MTA. Wear...  \n",
       "3   [{'username': 'CarenLissner', 'displayname': '...  \n",
       "4   [{'username': 'HEBobiwine', 'displayname': 'BO...  \n",
       "..                                                ...  \n",
       "95  [{'username': 'MTA', 'displayname': 'MTA. Wear...  \n",
       "96  [{'username': 'MTA', 'displayname': 'MTA. Wear...  \n",
       "97  [{'username': 'SubwayFreshBuzz', 'displayname'...  \n",
       "98  [{'username': 'WNYC', 'displayname': 'WNYC 🎙',...  \n",
       "99  [{'username': 'MTA', 'displayname': 'MTA. Wear...  \n",
       "\n",
       "[100 rows x 4 columns]"
      ]
     },
     "execution_count": 9,
     "metadata": {},
     "output_type": "execute_result"
    }
   ],
   "source": [
    "search_mention('#bus')"
   ]
  },
  {
   "cell_type": "markdown",
   "id": "23cd3ffd",
   "metadata": {
    "slideshow": {
     "slide_type": "slide"
    }
   },
   "source": [
    "## Get the demographic information of user"
   ]
  },
  {
   "cell_type": "code",
   "execution_count": 1,
   "id": "69676518",
   "metadata": {
    "slideshow": {
     "slide_type": "notes"
    }
   },
   "outputs": [
    {
     "name": "stdout",
     "output_type": "stream",
     "text": [
      "Help on function search_by_username in module utils.Crawler:\n",
      "\n",
      "search_by_username(username='jack', numberOfTweets=0)\n",
      "    this method could get the demographic information of user\n",
      "    username: the user that you want to search\n",
      "    numberOfTweets: the number of tweets that you want to scrape.\n",
      "\n"
     ]
    },
    {
     "data": {
      "text/html": [
       "<div>\n",
       "<style scoped>\n",
       "    .dataframe tbody tr th:only-of-type {\n",
       "        vertical-align: middle;\n",
       "    }\n",
       "\n",
       "    .dataframe tbody tr th {\n",
       "        vertical-align: top;\n",
       "    }\n",
       "\n",
       "    .dataframe thead th {\n",
       "        text-align: right;\n",
       "    }\n",
       "</style>\n",
       "<table border=\"1\" class=\"dataframe\">\n",
       "  <thead>\n",
       "    <tr style=\"text-align: right;\">\n",
       "      <th></th>\n",
       "      <th>username</th>\n",
       "      <th>description</th>\n",
       "      <th>verified</th>\n",
       "      <th>followersCount</th>\n",
       "      <th>location</th>\n",
       "    </tr>\n",
       "  </thead>\n",
       "  <tbody>\n",
       "    <tr>\n",
       "      <th>0</th>\n",
       "      <td>Trump</td>\n",
       "      <td>Official Twitter page of The @Trump Organizati...</td>\n",
       "      <td>True</td>\n",
       "      <td>565559</td>\n",
       "      <td>New York, NY</td>\n",
       "    </tr>\n",
       "  </tbody>\n",
       "</table>\n",
       "</div>"
      ],
      "text/plain": [
       "  username                                        description  verified  \\\n",
       "0    Trump  Official Twitter page of The @Trump Organizati...      True   \n",
       "\n",
       "   followersCount      location  \n",
       "0          565559  New York, NY  "
      ]
     },
     "execution_count": 1,
     "metadata": {},
     "output_type": "execute_result"
    }
   ],
   "source": [
    "from utils.Crawler import search_by_username\n",
    "\n",
    "#run next line to get the instuction of how to use this method\n",
    "#help(search_by_username)\n",
    "\n",
    "# search_by_username(user_name, number_of_tweets)\n",
    "search_by_username('trump')"
   ]
  },
  {
   "cell_type": "code",
   "execution_count": 11,
   "id": "5433322a",
   "metadata": {},
   "outputs": [
    {
     "ename": "NameError",
     "evalue": "name 'sntwitter' is not defined",
     "output_type": "error",
     "traceback": [
      "\u001b[0;31m---------------------------------------------------------------------------\u001b[0m",
      "\u001b[0;31mNameError\u001b[0m                                 Traceback (most recent call last)",
      "\u001b[0;32m<ipython-input-11-2eddf183a0f7>\u001b[0m in \u001b[0;36m<module>\u001b[0;34m\u001b[0m\n\u001b[1;32m      2\u001b[0m \u001b[0;34m\u001b[0m\u001b[0m\n\u001b[1;32m      3\u001b[0m     \u001b[0;31m# Using TwitterSearchScraper to scrape 100 records from username @jack\u001b[0m\u001b[0;34m\u001b[0m\u001b[0;34m\u001b[0m\u001b[0;34m\u001b[0m\u001b[0m\n\u001b[0;32m----> 4\u001b[0;31m \u001b[0;32mfor\u001b[0m \u001b[0mi\u001b[0m\u001b[0;34m,\u001b[0m \u001b[0mtweet\u001b[0m \u001b[0;32min\u001b[0m \u001b[0menumerate\u001b[0m\u001b[0;34m(\u001b[0m\u001b[0msntwitter\u001b[0m\u001b[0;34m.\u001b[0m\u001b[0mTwitterSearchScraper\u001b[0m\u001b[0;34m(\u001b[0m\u001b[0;34mf'from:{username}'\u001b[0m\u001b[0;34m)\u001b[0m\u001b[0;34m.\u001b[0m\u001b[0mget_items\u001b[0m\u001b[0;34m(\u001b[0m\u001b[0;34m)\u001b[0m\u001b[0;34m)\u001b[0m\u001b[0;34m:\u001b[0m\u001b[0;34m\u001b[0m\u001b[0;34m\u001b[0m\u001b[0m\n\u001b[0m\u001b[1;32m      5\u001b[0m \u001b[0;34m\u001b[0m\u001b[0m\n\u001b[1;32m      6\u001b[0m     \u001b[0;32mif\u001b[0m \u001b[0mi\u001b[0m \u001b[0;34m>\u001b[0m \u001b[0mnumberOfTweets\u001b[0m\u001b[0;34m:\u001b[0m\u001b[0;34m\u001b[0m\u001b[0;34m\u001b[0m\u001b[0m\n",
      "\u001b[0;31mNameError\u001b[0m: name 'sntwitter' is not defined"
     ]
    }
   ],
   "source": [
    "\n",
    "tweets_list = []\n",
    "\n",
    "    # Using TwitterSearchScraper to scrape 100 records from username @jack\n",
    "for i, tweet in enumerate(sntwitter.TwitterSearchScraper(f'from:{username}').get_items()):\n",
    "    \n",
    "    if i > numberOfTweets:\n",
    "        break\n",
    "    tweets_list.append([tweet.user])\n",
    "    \n",
    "tweets_df = pd.DataFrame(tweets_list)\n",
    "    "
   ]
  },
  {
   "cell_type": "markdown",
   "id": "b3e619a9",
   "metadata": {},
   "source": [
    "# Some addtional method"
   ]
  },
  {
   "cell_type": "markdown",
   "id": "dc85c710",
   "metadata": {},
   "source": [
    "## Getting location from scraped tweets"
   ]
  },
  {
   "cell_type": "markdown",
   "id": "4cab3ded",
   "metadata": {},
   "source": [
    "## Hashtag "
   ]
  },
  {
   "cell_type": "code",
   "execution_count": 4,
   "id": "82068371",
   "metadata": {},
   "outputs": [
    {
     "data": {
      "text/html": [
       "<div>\n",
       "<style scoped>\n",
       "    .dataframe tbody tr th:only-of-type {\n",
       "        vertical-align: middle;\n",
       "    }\n",
       "\n",
       "    .dataframe tbody tr th {\n",
       "        vertical-align: top;\n",
       "    }\n",
       "\n",
       "    .dataframe thead th {\n",
       "        text-align: right;\n",
       "    }\n",
       "</style>\n",
       "<table border=\"1\" class=\"dataframe\">\n",
       "  <thead>\n",
       "    <tr style=\"text-align: right;\">\n",
       "      <th></th>\n",
       "      <th>Datetime</th>\n",
       "      <th>Tweet_id</th>\n",
       "      <th>Text</th>\n",
       "      <th>Username</th>\n",
       "      <th>hashtag</th>\n",
       "    </tr>\n",
       "  </thead>\n",
       "  <tbody>\n",
       "    <tr>\n",
       "      <th>0</th>\n",
       "      <td>2021-05-02 18:55:49+00:00</td>\n",
       "      <td>1388930241134014464</td>\n",
       "      <td>The 🇮🇹Ferrari 250 TR was the start of my dieca...</td>\n",
       "      <td>OlitzschG</td>\n",
       "      <td>[MayBuildOff]</td>\n",
       "    </tr>\n",
       "    <tr>\n",
       "      <th>1</th>\n",
       "      <td>2021-05-02 16:17:58+00:00</td>\n",
       "      <td>1388890519569240064</td>\n",
       "      <td>Been reworking the area around the first room ...</td>\n",
       "      <td>liquidmetalslim</td>\n",
       "      <td>[DQB2, NintendoSwitch]</td>\n",
       "    </tr>\n",
       "    <tr>\n",
       "      <th>2</th>\n",
       "      <td>2021-05-02 15:15:10+00:00</td>\n",
       "      <td>1388874715339448320</td>\n",
       "      <td>Giving this babe a facelift and reworking some...</td>\n",
       "      <td>SofiRami2</td>\n",
       "      <td>[colombiana, workinprogress, acrylicpainting, ...</td>\n",
       "    </tr>\n",
       "    <tr>\n",
       "      <th>3</th>\n",
       "      <td>2021-05-02 11:20:33+00:00</td>\n",
       "      <td>1388815668754231301</td>\n",
       "      <td>School education is always trying something ou...</td>\n",
       "      <td>JagersbergKnut</td>\n",
       "      <td>[ArtificialIntelligence, MachineLearning, Digi...</td>\n",
       "    </tr>\n",
       "    <tr>\n",
       "      <th>4</th>\n",
       "      <td>2021-05-02 00:32:48+00:00</td>\n",
       "      <td>1388652658450370563</td>\n",
       "      <td>Reworking the tile selection for doing things....</td>\n",
       "      <td>ThrallGames</td>\n",
       "      <td>[gamedev, indiedev, indiegames, GameMaker, pix...</td>\n",
       "    </tr>\n",
       "  </tbody>\n",
       "</table>\n",
       "</div>"
      ],
      "text/plain": [
       "                   Datetime             Tweet_id  \\\n",
       "0 2021-05-02 18:55:49+00:00  1388930241134014464   \n",
       "1 2021-05-02 16:17:58+00:00  1388890519569240064   \n",
       "2 2021-05-02 15:15:10+00:00  1388874715339448320   \n",
       "3 2021-05-02 11:20:33+00:00  1388815668754231301   \n",
       "4 2021-05-02 00:32:48+00:00  1388652658450370563   \n",
       "\n",
       "                                                Text         Username  \\\n",
       "0  The 🇮🇹Ferrari 250 TR was the start of my dieca...        OlitzschG   \n",
       "1  Been reworking the area around the first room ...  liquidmetalslim   \n",
       "2  Giving this babe a facelift and reworking some...        SofiRami2   \n",
       "3  School education is always trying something ou...   JagersbergKnut   \n",
       "4  Reworking the tile selection for doing things....      ThrallGames   \n",
       "\n",
       "                                             hashtag  \n",
       "0                                      [MayBuildOff]  \n",
       "1                             [DQB2, NintendoSwitch]  \n",
       "2  [colombiana, workinprogress, acrylicpainting, ...  \n",
       "3  [ArtificialIntelligence, MachineLearning, Digi...  \n",
       "4  [gamedev, indiedev, indiegames, GameMaker, pix...  "
      ]
     },
     "execution_count": 4,
     "metadata": {},
     "output_type": "execute_result"
    }
   ],
   "source": [
    "import re\n",
    "\n",
    "list1 = []\n",
    "\n",
    "for i, tweet in enumerate(sntwitter.TwitterSearchScraper('reworking lang:en filter:hashtags').get_items()):\n",
    "    if i > 100:\n",
    "        break\n",
    "    list1.append([tweet.date, tweet.id, tweet.content, tweet.user.username])\n",
    "    \n",
    "df1 = pd.DataFrame(list1, columns = ['Datetime', 'Tweet_id', 'Text', 'Username'])\n",
    "\n",
    "pattern = r'#(\\w+)'\n",
    "df1['hashtag'] = df1['Text'].apply(lambda x: re.findall(pattern, x))\n",
    "\n",
    "df1.head()"
   ]
  }
 ],
 "metadata": {
  "celltoolbar": "原始单元格格式",
  "kernelspec": {
   "display_name": "Python 3",
   "language": "python",
   "name": "python3"
  },
  "language_info": {
   "codemirror_mode": {
    "name": "ipython",
    "version": 3
   },
   "file_extension": ".py",
   "mimetype": "text/x-python",
   "name": "python",
   "nbconvert_exporter": "python",
   "pygments_lexer": "ipython3",
   "version": "3.9.4"
  }
 },
 "nbformat": 4,
 "nbformat_minor": 5
}
